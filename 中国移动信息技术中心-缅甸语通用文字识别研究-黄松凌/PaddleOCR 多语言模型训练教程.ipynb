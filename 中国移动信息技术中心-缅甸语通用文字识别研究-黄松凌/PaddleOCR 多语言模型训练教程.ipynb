{
  "cells": [
    {
      "cell_type": "markdown",
      "metadata": {
        "collapsed": false,
        "id": "Gq7S56hBe-aG"
      },
      "source": [
        "# PaddleOCR 多语言模型训练教程\n",
        "\n",
        "PaddleOCR 提供了 80 种语言模型，但仍然无法覆盖全部。发布的模型可以通过使用自己的识别数据进行微调来达到更好的效果。如果您有以下问题：\n",
        "\n",
        "- 测试原始识别模型时效果不佳\n",
        "- 缺乏数据，对训练过程感到困惑\n",
        "- 不知道如何替换或修改词典\n",
        "\n",
        "本教程将帮助您学习如何合成识别图像来训练自定义识别模型，具体包括：\n",
        "- 语料合成可以提高某一类别的识别结果，以泰语为例\n",
        "- 使用您自己的词典和语料来训练模型，如纯数字模型、多语言模型等。\n",
        "- 分步训练指南，包括如何通过 `.yml` 配置文件配置训练参数\n",
        "- 将训练好的模型导出到推理模型\n",
        "\n",
        "<img src='https://user-images.githubusercontent.com/50011306/184822349-c214e8b7-90f5-4bab-9833-978b5055af04.png' width=\"600\" heith=\"600\">\n",
        "\n",
        "任何问题关于本教程的讨论可以在 [PaddleOCR's GitHub Discussion](https://github.com/PaddlePaddle/PaddleOCR/discussions) 中进行。"
      ]
    },
    {
      "cell_type": "markdown",
      "metadata": {
        "collapsed": false,
        "id": "aTfNv2Gwe-aL"
      },
      "source": [
        "## Environment preparation"
      ]
    },
    {
      "cell_type": "code",
      "execution_count": null,
      "metadata": {
        "colab": {
          "base_uri": "https://localhost:8080/"
        },
        "id": "q-VTsLz2e-aN",
        "outputId": "4110a4f8-c45e-41af-f638-abeff2d5a9c4"
      },
      "outputs": [
        {
          "name": "stdout",
          "output_type": "stream",
          "text": [
            "Looking in indexes: https://pypi.org/simple, https://us-python.pkg.dev/colab-wheels/public/simple/\n",
            "Collecting paddlepaddle\n",
            "  Downloading paddlepaddle-2.3.2-cp37-cp37m-manylinux1_x86_64.whl (112.5 MB)\n",
            "\u001b[K     |████████████████████████████████| 112.5 MB 50 kB/s \n",
            "\u001b[?25hCollecting paddleocr\n",
            "  Downloading paddleocr-2.5.0.3-py3-none-any.whl (334 kB)\n",
            "\u001b[K     |████████████████████████████████| 334 kB 56.5 MB/s \n",
            "\u001b[?25hRequirement already satisfied: numpy>=1.13 in /usr/local/lib/python3.7/dist-packages (from paddlepaddle) (1.21.6)\n",
            "Requirement already satisfied: Pillow in /usr/local/lib/python3.7/dist-packages (from paddlepaddle) (7.1.2)\n",
            "Requirement already satisfied: astor in /usr/local/lib/python3.7/dist-packages (from paddlepaddle) (0.8.1)\n",
            "Requirement already satisfied: requests>=2.20.0 in /usr/local/lib/python3.7/dist-packages (from paddlepaddle) (2.23.0)\n",
            "Requirement already satisfied: decorator in /usr/local/lib/python3.7/dist-packages (from paddlepaddle) (4.4.2)\n",
            "Requirement already satisfied: protobuf<=3.20.0,>=3.1.0 in /usr/local/lib/python3.7/dist-packages (from paddlepaddle) (3.17.3)\n",
            "Requirement already satisfied: opt-einsum==3.3.0 in /usr/local/lib/python3.7/dist-packages (from paddlepaddle) (3.3.0)\n",
            "Requirement already satisfied: six in /usr/local/lib/python3.7/dist-packages (from paddlepaddle) (1.15.0)\n",
            "Collecting paddle-bfloat==0.1.7\n",
            "  Downloading paddle_bfloat-0.1.7-cp37-cp37m-manylinux_2_17_x86_64.manylinux2014_x86_64.whl (394 kB)\n",
            "\u001b[K     |████████████████████████████████| 394 kB 58.5 MB/s \n",
            "\u001b[?25hRequirement already satisfied: urllib3!=1.25.0,!=1.25.1,<1.26,>=1.21.1 in /usr/local/lib/python3.7/dist-packages (from requests>=2.20.0->paddlepaddle) (1.24.3)\n",
            "Requirement already satisfied: certifi>=2017.4.17 in /usr/local/lib/python3.7/dist-packages (from requests>=2.20.0->paddlepaddle) (2022.6.15)\n",
            "Requirement already satisfied: idna<3,>=2.5 in /usr/local/lib/python3.7/dist-packages (from requests>=2.20.0->paddlepaddle) (2.10)\n",
            "Requirement already satisfied: chardet<4,>=3.0.2 in /usr/local/lib/python3.7/dist-packages (from requests>=2.20.0->paddlepaddle) (3.0.4)\n",
            "Collecting pyclipper\n",
            "  Downloading pyclipper-1.3.0.post3-cp37-cp37m-manylinux_2_5_x86_64.manylinux1_x86_64.whl (604 kB)\n",
            "\u001b[K     |████████████████████████████████| 604 kB 55.3 MB/s \n",
            "\u001b[?25hRequirement already satisfied: tqdm in /usr/local/lib/python3.7/dist-packages (from paddleocr) (4.64.0)\n",
            "Collecting visualdl\n",
            "  Downloading visualdl-2.3.0-py3-none-any.whl (2.8 MB)\n",
            "\u001b[K     |████████████████████████████████| 2.8 MB 41.8 MB/s \n",
            "\u001b[?25hCollecting premailer\n",
            "  Downloading premailer-3.10.0-py2.py3-none-any.whl (19 kB)\n",
            "Requirement already satisfied: lxml in /usr/local/lib/python3.7/dist-packages (from paddleocr) (4.9.1)\n",
            "Requirement already satisfied: lmdb in /usr/local/lib/python3.7/dist-packages (from paddleocr) (0.99)\n",
            "Collecting opencv-contrib-python==4.4.0.46\n",
            "  Downloading opencv_contrib_python-4.4.0.46-cp37-cp37m-manylinux2014_x86_64.whl (55.7 MB)\n",
            "\u001b[K     |████████████████████████████████| 55.7 MB 1.1 MB/s \n",
            "\u001b[?25hRequirement already satisfied: cython in /usr/local/lib/python3.7/dist-packages (from paddleocr) (0.29.32)\n",
            "Requirement already satisfied: openpyxl in /usr/local/lib/python3.7/dist-packages (from paddleocr) (3.0.10)\n",
            "Collecting attrdict\n",
            "  Downloading attrdict-2.0.1-py2.py3-none-any.whl (9.9 kB)\n",
            "Requirement already satisfied: shapely in /usr/local/lib/python3.7/dist-packages (from paddleocr) (1.8.2)\n",
            "Collecting python-Levenshtein\n",
            "  Downloading python-Levenshtein-0.12.2.tar.gz (50 kB)\n",
            "\u001b[K     |████████████████████████████████| 50 kB 7.8 MB/s \n",
            "\u001b[?25hRequirement already satisfied: scikit-image in /usr/local/lib/python3.7/dist-packages (from paddleocr) (0.18.3)\n",
            "Requirement already satisfied: imgaug==0.4.0 in /usr/local/lib/python3.7/dist-packages (from paddleocr) (0.4.0)\n",
            "Requirement already satisfied: matplotlib in /usr/local/lib/python3.7/dist-packages (from imgaug==0.4.0->paddleocr) (3.2.2)\n",
            "Requirement already satisfied: scipy in /usr/local/lib/python3.7/dist-packages (from imgaug==0.4.0->paddleocr) (1.7.3)\n",
            "Requirement already satisfied: imageio in /usr/local/lib/python3.7/dist-packages (from imgaug==0.4.0->paddleocr) (2.9.0)\n",
            "Requirement already satisfied: opencv-python in /usr/local/lib/python3.7/dist-packages (from imgaug==0.4.0->paddleocr) (4.6.0.66)\n",
            "Requirement already satisfied: networkx>=2.0 in /usr/local/lib/python3.7/dist-packages (from scikit-image->paddleocr) (2.6.3)\n",
            "Requirement already satisfied: tifffile>=2019.7.26 in /usr/local/lib/python3.7/dist-packages (from scikit-image->paddleocr) (2021.11.2)\n",
            "Requirement already satisfied: PyWavelets>=1.1.1 in /usr/local/lib/python3.7/dist-packages (from scikit-image->paddleocr) (1.3.0)\n",
            "Requirement already satisfied: cycler>=0.10 in /usr/local/lib/python3.7/dist-packages (from matplotlib->imgaug==0.4.0->paddleocr) (0.11.0)\n",
            "Requirement already satisfied: kiwisolver>=1.0.1 in /usr/local/lib/python3.7/dist-packages (from matplotlib->imgaug==0.4.0->paddleocr) (1.4.4)\n",
            "Requirement already satisfied: python-dateutil>=2.1 in /usr/local/lib/python3.7/dist-packages (from matplotlib->imgaug==0.4.0->paddleocr) (2.8.2)\n",
            "Requirement already satisfied: pyparsing!=2.0.4,!=2.1.2,!=2.1.6,>=2.0.1 in /usr/local/lib/python3.7/dist-packages (from matplotlib->imgaug==0.4.0->paddleocr) (3.0.9)\n",
            "Requirement already satisfied: typing-extensions in /usr/local/lib/python3.7/dist-packages (from kiwisolver>=1.0.1->matplotlib->imgaug==0.4.0->paddleocr) (4.1.1)\n",
            "Requirement already satisfied: et-xmlfile in /usr/local/lib/python3.7/dist-packages (from openpyxl->paddleocr) (1.1.0)\n",
            "Collecting cssselect\n",
            "  Downloading cssselect-1.1.0-py2.py3-none-any.whl (16 kB)\n",
            "Collecting cssutils\n",
            "  Downloading cssutils-2.5.1-py3-none-any.whl (399 kB)\n",
            "\u001b[K     |████████████████████████████████| 399 kB 65.0 MB/s \n",
            "\u001b[?25hRequirement already satisfied: cachetools in /usr/local/lib/python3.7/dist-packages (from premailer->paddleocr) (4.2.4)\n",
            "Requirement already satisfied: importlib-metadata in /usr/local/lib/python3.7/dist-packages (from cssutils->premailer->paddleocr) (4.12.0)\n",
            "Requirement already satisfied: zipp>=0.5 in /usr/local/lib/python3.7/dist-packages (from importlib-metadata->cssutils->premailer->paddleocr) (3.8.1)\n",
            "Requirement already satisfied: setuptools in /usr/local/lib/python3.7/dist-packages (from python-Levenshtein->paddleocr) (57.4.0)\n",
            "Requirement already satisfied: flask>=1.1.1 in /usr/local/lib/python3.7/dist-packages (from visualdl->paddleocr) (1.1.4)\n",
            "Collecting bce-python-sdk\n",
            "  Downloading bce_python_sdk-0.8.74-py3-none-any.whl (204 kB)\n",
            "\u001b[K     |████████████████████████████████| 204 kB 74.9 MB/s \n",
            "\u001b[?25hCollecting Flask-Babel>=1.0.0\n",
            "  Downloading Flask_Babel-2.0.0-py3-none-any.whl (9.3 kB)\n",
            "Requirement already satisfied: pandas in /usr/local/lib/python3.7/dist-packages (from visualdl->paddleocr) (1.3.5)\n",
            "Requirement already satisfied: Werkzeug<2.0,>=0.15 in /usr/local/lib/python3.7/dist-packages (from flask>=1.1.1->visualdl->paddleocr) (1.0.1)\n",
            "Requirement already satisfied: click<8.0,>=5.1 in /usr/local/lib/python3.7/dist-packages (from flask>=1.1.1->visualdl->paddleocr) (7.1.2)\n",
            "Requirement already satisfied: itsdangerous<2.0,>=0.24 in /usr/local/lib/python3.7/dist-packages (from flask>=1.1.1->visualdl->paddleocr) (1.1.0)\n",
            "Requirement already satisfied: Jinja2<3.0,>=2.10.1 in /usr/local/lib/python3.7/dist-packages (from flask>=1.1.1->visualdl->paddleocr) (2.11.3)\n",
            "Requirement already satisfied: Babel>=2.3 in /usr/local/lib/python3.7/dist-packages (from Flask-Babel>=1.0.0->visualdl->paddleocr) (2.10.3)\n",
            "Requirement already satisfied: pytz in /usr/local/lib/python3.7/dist-packages (from Flask-Babel>=1.0.0->visualdl->paddleocr) (2022.2)\n",
            "Requirement already satisfied: MarkupSafe>=0.23 in /usr/local/lib/python3.7/dist-packages (from Jinja2<3.0,>=2.10.1->flask>=1.1.1->visualdl->paddleocr) (2.0.1)\n",
            "Requirement already satisfied: future>=0.6.0 in /usr/local/lib/python3.7/dist-packages (from bce-python-sdk->visualdl->paddleocr) (0.16.0)\n",
            "Collecting pycryptodome>=3.8.0\n",
            "  Downloading pycryptodome-3.15.0-cp35-abi3-manylinux2010_x86_64.whl (2.3 MB)\n",
            "\u001b[K     |████████████████████████████████| 2.3 MB 46.3 MB/s \n",
            "\u001b[?25hBuilding wheels for collected packages: python-Levenshtein\n",
            "  Building wheel for python-Levenshtein (setup.py) ... \u001b[?25l\u001b[?25hdone\n",
            "  Created wheel for python-Levenshtein: filename=python_Levenshtein-0.12.2-cp37-cp37m-linux_x86_64.whl size=149870 sha256=13e0c0f3322ef2cbbe613bb8949dcf246b2ddfecfc4c8eb008a2d8c68903b3c9\n",
            "  Stored in directory: /root/.cache/pip/wheels/05/5f/ca/7c4367734892581bb5ff896f15027a932c551080b2abd3e00d\n",
            "Successfully built python-Levenshtein\n",
            "Installing collected packages: pycryptodome, Flask-Babel, cssutils, cssselect, bce-python-sdk, visualdl, python-Levenshtein, pyclipper, premailer, paddle-bfloat, opencv-contrib-python, attrdict, paddlepaddle, paddleocr\n",
            "  Attempting uninstall: opencv-contrib-python\n",
            "    Found existing installation: opencv-contrib-python 4.6.0.66\n",
            "    Uninstalling opencv-contrib-python-4.6.0.66:\n",
            "      Successfully uninstalled opencv-contrib-python-4.6.0.66\n",
            "Successfully installed Flask-Babel-2.0.0 attrdict-2.0.1 bce-python-sdk-0.8.74 cssselect-1.1.0 cssutils-2.5.1 opencv-contrib-python-4.4.0.46 paddle-bfloat-0.1.7 paddleocr-2.5.0.3 paddlepaddle-2.3.2 premailer-3.10.0 pyclipper-1.3.0.post3 pycryptodome-3.15.0 python-Levenshtein-0.12.2 visualdl-2.3.0\n",
            "fatal: could not create work tree dir 'PaddleOCR': Operation not supported\n"
          ]
        }
      ],
      "source": [
        "# install paddlepaddle and paddleocr whl package\n",
        "# !pip install -U pip\n",
        "!pip install paddlepaddle paddleocr\n",
        "!git clone https://github.com/PaddlePaddle/PaddleOCR"
      ]
    },
    {
      "cell_type": "code",
      "execution_count": null,
      "metadata": {
        "colab": {
          "base_uri": "https://localhost:8080/"
        },
        "id": "avn_mCx5e-aR",
        "outputId": "df5b05d7-16e5-4891-dadd-146ca4187666"
      },
      "outputs": [
        {
          "name": "stdout",
          "output_type": "stream",
          "text": [
            "Cloning into 'text_renderer'...\n",
            "remote: Enumerating objects: 627, done.\u001b[K\n",
            "remote: Counting objects: 100% (47/47), done.\u001b[K\n",
            "remote: Compressing objects: 100% (32/32), done.\u001b[K\n",
            "remote: Total 627 (delta 12), reused 41 (delta 11), pack-reused 580\u001b[K\n",
            "Receiving objects: 100% (627/627), 13.75 MiB | 18.03 MiB/s, done.\n",
            "Resolving deltas: 100% (318/318), done.\n"
          ]
        }
      ],
      "source": [
        "# data synthesis tool\n",
        "!git clone https://github.com/tink2123/text_renderer.git"
      ]
    },
    {
      "cell_type": "markdown",
      "metadata": {
        "collapsed": false,
        "id": "jMCsp4ywe-aO"
      },
      "source": [
        "### 安装第三方要求"
      ]
    },
    {
      "cell_type": "code",
      "execution_count": null,
      "metadata": {
        "id": "mE64eTiQe-aO"
      },
      "outputs": [],
      "source": [
        "!cd PaddleOCR && pip install -r requirements.txt"
      ]
    },
    {
      "cell_type": "code",
      "execution_count": null,
      "metadata": {
        "id": "T42tVJY0e-aR"
      },
      "outputs": [],
      "source": [
        "!pip install -r ./text_renderer/requirements.txt"
      ]
    },
    {
      "cell_type": "markdown",
      "metadata": {
        "id": "19PCWzwroXNh"
      },
      "source": [
        "### 快速使用\n",
        "\n",
        "首先我们展示 paddleocr WHL 包的使用方法。如果您想了解如何使用 WHL 包，请查看[本教程](https://colab.research.google.com/drive/1_GpuvV0eO10TeTX1aCbVFc3aWK5cVcBC?usp=sharing)。"
      ]
    },
    {
      "cell_type": "code",
      "execution_count": null,
      "metadata": {
        "id": "lXx9bhu6oW2W"
      },
      "outputs": [],
      "source": [
        "!paddleocr --image_dir /your/image/path --lang=en"
      ]
    },
    {
      "cell_type": "markdown",
      "metadata": {
        "id": "2qh3q3VsqMEP"
      },
      "source": [
        "## 数据准备\n",
        "\n",
        "训练一个识别模型总是需要大量的识别图像，比如 0.1 到 100 万张。除了现有的数据集之外，一般很难获得这么多的真实数据，因此合成数据往往在扩充数据量方面起着重要作用。另一方面，如果只有合成数据，模型的泛化能力可能不够强。在实际训练过程中，按一定比例采样真实数据和合成数据往往是更好的方法。"
      ]
    },
    {
      "cell_type": "markdown",
      "metadata": {
        "id": "rSc7KxZ9qP0e"
      },
      "source": [
        "### 真实数据标注\n",
        "\n",
        "我们推荐使用 [PPOCRLabel](https://github.com/PaddlePaddle/PaddleOCR/tree/release/2.5/PPOCRLabel) 作为 OCR 任务的标注工具，因为它内置了 PP-OCR 模型，可以自动检测和重新识别数据，效率可提高 50% 以上。\n",
        "\n",
        "更多信息请阅读 [PPOCRLabel 的 README](https://github.com/PaddlePaddle/PaddleOCR/tree/release/2.5/PPOCRLabel)\n",
        "\n",
        "<img src='https://github.com/PaddlePaddle/PaddleOCR/raw/release/2.5/PPOCRLabel/data/gif/steps_en.gif' width=\"600\" heith=\"600\">"
      ]
    },
    {
      "cell_type": "markdown",
      "metadata": {
        "id": "5LeSNjNsaY_W"
      },
      "source": [
        "### 合成数据\n",
        "\n",
        "数据合成工具：\n",
        "\n",
        "合成识别图像需要五个元素：词典、语料、字体、背景图片、文本图片生成器工具（推荐[text_renderer](https://github.com/Sanster/text_renderer)，适用于多种语言），然后通过间距、横竖、弯曲等配置来控制最终的效果，使合成图像能够近似真实图像。\n",
        "\n",
        "接下来我们依次介绍如何获取这些元素。"
      ]
    },
    {
      "cell_type": "markdown",
      "metadata": {
        "collapsed": false,
        "id": "EamS__6Fe-aP"
      },
      "source": [
        "##### 词典和语料库\n",
        "\n",
        "词典对应模型需要识别的文本信息，也就是说需要识别的文本都应该在词典中出现。语料库是生成文本图片所需要的单词和句子，合成工具会根据语料库来合成文本图片。\n",
        "\n",
        "PaddleOCR 中的词典文件和语料文件都是 .txt 格式。\n",
        "\n",
        "例如部分缅甸语语词典如下：\n",
        "```\n",
        "က\n",
        "ခ\n",
        "ဂ\n",
        "ဃ\n",
        "င\n",
        "စ\n",
        "ဆ\n",
        "ဇ\n",
        "ဈ\n",
        "ဉ\n",
        "ည\n",
        "ဋ\n",
        "ဌ\n",
        "ဍ\n",
        "ဎ\n",
        "```\n",
        "\n",
        "部分缅甸语语语料库如下：\n",
        "\n",
        "```\n",
        "လင်းတငှက်တို့သည်\n",
        "လူသေကောင်ပုပ်ကိုရှာကြသည်။\n",
        "ပုထုဇဉ်တို့သည်\n",
        "လူရှင်ကောင်ပုပ်ကိုရှာကြသည်။\n",
        "သူတော်ကောင်းတို့သည်\n",
        "အသင်္ခတဓာတ်ကိုရှာကြသည်။\n",
        "၁၁။ဝန်မလေးမှုသုံးမျိုး\n",
        "အကိုင်းကိုကန်ရန်ဝန်မလေးဘူး။\n",
        "သခင်ကိုကန်ရန်ဝန်မလေးဘူး။\n",
        "```\n",
        "\n",
        "获取词典和语料库有三种方式\n",
        "\n",
        "- 从 PaddleOCR github 仓库下载\n",
        "\n",
        "PaddleOCR 在 [github 仓库](https://github.com/PaddlePaddle/PaddleOCR/blob/release/2.8/ppocr/utils/dict) 中发布了一系列词典，用于训练 PP-OCR 多语言模型（训练好的模型可以在 [此处](https://github.com/PaddlePaddle/PaddleOCR/blob/release/2.5/doc/doc_en/models_list_en.md#23-multilingual-recognition-modelupdating) 找到）。同时，许多开发者通过 PR 或 [多语言 OCR 发展计划](https://github.com/PaddlePaddle/PaddleOCR/issues/1048) 问题下的评论贡献了部分语言的词典和语料库。\n",
        "\n",
        "- 自定义词典或语料库\n",
        "\n",
        "以上词典往往用于通用场景，而其他场景需要的字符是特定的，或者通用词典中的字符不是全部都需要，因此可以根据场景自定义词典的内容。比如你只想识别数字，你的词典就只包含0-9。\n",
        "\n",
        "如果你想有针对性地提高某些效果，比如空格、特殊符号、标点符号等，可以在构建语料库时多添加这些信息\n",
        "\n",
        "- 通过语料库获取词典\n",
        "\n",
        "第三种方法是根据语料库准备词典。这种方法适合先准备语料库内容，通过算法遍历语料库内容，生成包含语料库中所有单词的词典。\n",
        "\n",
        "\n"
      ]
    },
    {
      "cell_type": "markdown",
      "metadata": {
        "id": "ElRmHQQAV-p6"
      },
      "source": [
        "#### 字体和背景\n",
        "\n",
        "当模型识别一些没见过的字体形式（比如点阵字体、数码管字体）时，可能会出现不好的效果，所以需要合成类似字体的数据。\n",
        "\n",
        "你可以在字体网站找到不同类型的字体。\n",
        "\n",
        "合成数据的背景应该与真实数据相似。如果你针对特定场景训练模型，你可以直接从真实数据中抓取背景图像。例如，在PCB场景中，图像都是绿色的，这就需要一张类似的绿色图像作为背景。\n",
        "\n",
        "如果场景中的背景不均匀，你也可以使用ImageNet中的数据作为背景图像\n",
        "\n",
        "<img src='https://github.com/tink2123/text_renderer/blob/master/data/bg/%E8%83%8C%E6%99%AF.png?raw=true' width=\"200\" heith=\"200\">"
      ]
    },
    {
      "cell_type": "markdown",
      "metadata": {
        "collapsed": false,
        "id": "Zm7t1-Lze-aS"
      },
      "source": [
        "#### 开始合成\n",
        "\n",
        "使用`text_renderer`的方法很简单，只需要将`fonts_list`，`chars_file`指定为字体和字典的路径即可"
      ]
    },
    {
      "cell_type": "markdown",
      "metadata": {
        "id": "q1v7-buBxUSk"
      },
      "source": [
        "将准备好的语料库、词典、背景图放在text_renderer/data目录下，并修改默认配置，以英文数据为例。\n",
        "1. 准备[thai_movies.txt](/content/text_renderer/data/en_corpus/en_movies.txt)中列出的`n`个语料库\n",
        "2. 如果要增强数据丰富度，可以准备一些背景图放在`data/bg路径`下，本例提供了5张imagenet。\n",
        "3. 修改`text_renderer/parse_args.py`中的默认参数：`--chars_file`、`--fonts_list`、`--corpus_dir`、`--corpus_mode`\n",
        "\n",
        "启动数据合成脚本"
      ]
    },
    {
      "cell_type": "code",
      "execution_count": null,
      "metadata": {
        "colab": {
          "base_uri": "https://localhost:8080/"
        },
        "id": "9pgAVkhbe-aS",
        "outputId": "e324a5c9-1101-45be-ad23-dc10ec724b48"
      },
      "outputs": [
        {
          "name": "stdout",
          "output_type": "stream",
          "text": [
            "Total fonts num: 1\n",
            "Background num: 6\n",
            "Loading corpus from: ./data/en_corpus\n",
            "Load corpus: ./data/en_corpus/en_movies.txt\n",
            "Total lines: 25\n",
            "Generate text images in ./output/default\n",
            "10/10 100%\n",
            "Finish generate data: 1.224 s\n"
          ]
        }
      ],
      "source": [
        "!cd text_renderer && python main.py --num_img=10"
      ]
    },
    {
      "cell_type": "markdown",
      "metadata": {
        "id": "izkrXCyDEncD"
      },
      "source": [
        "合成数据存储在“output/default”目录中。"
      ]
    },
    {
      "cell_type": "code",
      "execution_count": null,
      "metadata": {
        "colab": {
          "base_uri": "https://localhost:8080/",
          "height": 111
        },
        "id": "8iPnb_EuzE5q",
        "outputId": "7421ce84-7142-435e-f400-1d14b5b1b87d"
      },
      "outputs": [
        {
          "data": {
            "text/plain": [
              "<matplotlib.image.AxesImage at 0x7fb61227fcd0>"
            ]
          },
          "execution_count": 9,
          "metadata": {},
          "output_type": "execute_result"
        },
        {
          "data": {
            "image/png": "[encoded data removed]",
            "text/plain": [
              "<Figure size 432x288 with 1 Axes>"
            ]
          },
          "metadata": {
            "needs_background": "light"
          },
          "output_type": "display_data"
        }
      ],
      "source": [
        "import cv2\n",
        "import matplotlib.pyplot as plt\n",
        "\n",
        "raw_img = cv2.imread(\"/content/text_renderer/output/default/00000000.jpg\")\n",
        "plt.imshow(raw_img)"
      ]
    },
    {
      "cell_type": "markdown",
      "metadata": {
        "id": "VBbrvkA-1AY-"
      },
      "source": [
        "另外，可用于训练 PaddleOCR 的真实信息存储在 `output/default/label.txt` 中\n",
        "\n",
        "```\n",
        "train_data/rec/train/000000000.jpg\tူးဆို\n",
        "train_data/rec/train/000000001.jpg\tပမာဏတိုးမ\n",
        "train_data/rec/train/000000002.jpg\tပဲ၊ပဲစင\n",
        "train_data/rec/train/000000003.jpg\tပတင်ပို\n",
        "train_data/rec/train/000000004.jpg\tင်ယူပါ။\n",
        "train_data/rec/train/000000005.jpg\t္ဒိမာ၈ဗီ\n",
        "train_data/rec/train/000000006.jpg\tခန်းတွ\n",
        "train_data/rec/train/000000007.jpg\tတ်ညစ်နေ\n",
        "train_data/rec/train/000000008.jpg\tေးကြီးခ\n",
        "...\n",
        "```"
      ]
    },
    {
      "cell_type": "markdown",
      "metadata": {
        "id": "jdcs5DJVt1ip"
      },
      "source": [
        "### 缅甸语数据\n",
        "\n",
        "由于合成过程较长，需要自己准备好数据集。\n"
      ]
    },
    {
      "cell_type": "code",
      "execution_count": null,
      "metadata": {
        "colab": {
          "base_uri": "https://localhost:8080/"
        },
        "id": "47tLUG6gh1m5",
        "outputId": "5f1d5d62-6724-4a1e-ad46-0645714d5404"
      },
      "outputs": [
        {
          "name": "stdout",
          "output_type": "stream",
          "text": [
            "mkdir: cannot create directory ‘/content/PaddleOCR/train_data’: File exists\n"
          ]
        }
      ],
      "source": [
        "!mkdir /content/PaddleOCR/train_data\n",
        "!cp /gdrive/MyDrive/th_img.tar /content/PaddleOCR/train_data/"
      ]
    },
    {
      "cell_type": "code",
      "execution_count": null,
      "metadata": {
        "id": "Nc4AZWo4uePh"
      },
      "outputs": [],
      "source": [
        "!cd /content/PaddleOCR/train_data/ && tar -xf bm_img.tar\n",
        "%cd /content/PaddleOCR"
      ]
    },
    {
      "cell_type": "markdown",
      "metadata": {
        "id": "_Jyibt3Gv3Zn"
      },
      "source": [
        "PaddleOCR 要求的标注格式是使用 `\\t` 来分割图片路径和图片标签，如果使用其他方式分割，会造成训练误差"
      ]
    },
    {
      "cell_type": "markdown",
      "metadata": {
        "id": "gj5cp2r8UBcL"
      },
      "source": [
        "### 数据集结构"
      ]
    },
    {
      "cell_type": "markdown",
      "metadata": {
        "id": "wq3XKkMFTpz3"
      },
      "source": [
        "当您使用自己的数据进行训练时，请参考以下内容来组织文件结构。\n",
        "\n",
        "- 训练集\n",
        "\n",
        "建议将训练图像放在同一个文件夹中，并使用一个txt文件（例如`rec_gt_train.txt`）存储图像路径和标签。`rec_gt_train.txt`的格式如上。txt文件的内容如下：\n",
        "\n",
        "最终的训练集应该具有以下文件结构：\n",
        "\n",
        "```\n",
        "|-train_data\n",
        "|-rec\n",
        "|- rec_gt_train.txt\n",
        "|- train\n",
        "|- word_001.png\n",
        "|- word_002.jpg\n",
        "|- word_003.jpg\n",
        "| ...\n",
        "```\n",
        "\n",
        "- 测试集\n",
        "\n",
        "与训练集类似，测试集也需要提供一个包含所有图像的文件夹（test）和一个rec_gt_test.txt。测试集的结构如下：\n",
        "\n",
        "```\n",
        "|-train_data\n",
        "|-rec\n",
        "|-ic15_data\n",
        "|- rec_gt_test.txt\n",
        "|- test\n",
        "|- word_001.jpg\n",
        "|- word_002.jpg\n",
        "|- word_003.jpg\n",
        "| ...\n",
        "```"
      ]
    },
    {
      "cell_type": "markdown",
      "metadata": {
        "collapsed": false,
        "id": "_4DjhJKee-aV"
      },
      "source": [
        "## 模型训练与评估\n",
        "\n",
        "PaddleOCR 将训练参数以配置文件的形式传入（包括模型结构、训练配置等），下面是一个典型的配置文件形式。\n",
        "\n",
        "我们对下面一些重要的参数进行了注释，更多配置可以在 `/config/` 中找到\n",
        "\n",
        "如果需要添加新的配置文件，请参考下面的示例修改 **`character_dict_path`** 和 **`dataset`**"
      ]
    },
    {
      "cell_type": "markdown",
      "metadata": {
        "collapsed": false,
        "id": "sjfJXPzBe-aV"
      },
      "source": [
        "```\n",
        "Global:\n",
        "  debug: false\n",
        "  use_gpu: true\n",
        "  epoch_num: 2\n",
        "  log_smooth_window: 20\n",
        "  print_batch_step: 10\n",
        "  save_model_dir: ./output/thai\n",
        "  save_epoch_step: 3\n",
        "  eval_batch_step: [0, 2000]\n",
        "  cal_metric_during_train: true\n",
        "  pretrained_model:\n",
        "  checkpoints:\n",
        "  save_inference_dir:\n",
        "  use_visualdl: false\n",
        "  infer_img: doc/imgs_words/ch/word_1.jpg\n",
        "  character_dict_path: train_data/th_img/th_dict.txt\n",
        "  max_text_length: &max_text_length 25\n",
        "  infer_mode: false\n",
        "  use_space_char: true\n",
        "  distributed: true\n",
        "  save_res_path: ./output/rec/predicts_ppocrv3_thai.txt\n",
        "\n",
        "\n",
        "Optimizer:\n",
        "  name: Adam\n",
        "  beta1: 0.9\n",
        "  beta2: 0.999\n",
        "  lr:\n",
        "    name: Cosine\n",
        "    learning_rate: 0.001\n",
        "    warmup_epoch: 5\n",
        "  regularizer:\n",
        "    name: L2\n",
        "    factor: 3.0e-05\n",
        "\n",
        "\n",
        "Architecture:\n",
        "  model_type: rec\n",
        "  algorithm: SVTR_LCNet\n",
        "  Transform:\n",
        "  Backbone:\n",
        "    name: MobileNetV1Enhance\n",
        "    scale: 0.5\n",
        "    last_conv_stride: [1, 2]\n",
        "    last_pool_type: avg\n",
        "    last_pool_kernel_size: [2, 2]\n",
        "  Head:\n",
        "    name: MultiHead\n",
        "    head_list:\n",
        "      - CTCHead:\n",
        "          Neck:\n",
        "            name: svtr\n",
        "            dims: 64\n",
        "            depth: 2\n",
        "            hidden_dims: 120\n",
        "            use_guide: True\n",
        "          Head:\n",
        "            fc_decay: 0.00001\n",
        "      - SARHead:\n",
        "          enc_dim: 512\n",
        "          max_text_length: *max_text_length\n",
        "\n",
        "Loss:\n",
        "  name: MultiLoss\n",
        "  loss_config_list:\n",
        "    - CTCLoss:\n",
        "    - SARLoss:\n",
        "\n",
        "PostProcess:  \n",
        "  name: CTCLabelDecode\n",
        "\n",
        "Metric:\n",
        "  name: RecMetric\n",
        "  main_indicator: acc\n",
        "  ignore_space: False\n",
        "\n",
        "Train:\n",
        "  dataset:\n",
        "    name: SimpleDataSet\n",
        "    data_dir: ./train_data/\n",
        "    ext_op_transform_idx: 1\n",
        "    label_file_list:\n",
        "    - ./train_data/th_img/train_list.txt\n",
        "    transforms:\n",
        "    - DecodeImage:\n",
        "        img_mode: BGR\n",
        "        channel_first: false\n",
        "    - RecConAug:\n",
        "        prob: 0.5\n",
        "        ext_data_num: 2\n",
        "        image_shape: [48, 320, 3]\n",
        "    - RecAug:\n",
        "    - MultiLabelEncode:\n",
        "    - RecResizeImg:\n",
        "        image_shape: [3, 48, 320]\n",
        "    - KeepKeys:\n",
        "        keep_keys:\n",
        "        - image\n",
        "        - label_ctc\n",
        "        - label_sar\n",
        "        - length\n",
        "        - valid_ratio\n",
        "  loader:\n",
        "    shuffle: true\n",
        "    batch_size_per_card: 128\n",
        "    drop_last: true\n",
        "    num_workers: 4\n",
        "Eval:\n",
        "  dataset:\n",
        "    name: SimpleDataSet\n",
        "    data_dir: ./train_data\n",
        "    label_file_list:\n",
        "    - ./train_data/th_img/val_list.txt\n",
        "    transforms:\n",
        "    - DecodeImage:\n",
        "        img_mode: BGR\n",
        "        channel_first: false\n",
        "    - MultiLabelEncode:\n",
        "    - RecResizeImg:\n",
        "        image_shape: [3, 48, 320]\n",
        "    - KeepKeys:\n",
        "        keep_keys:\n",
        "        - image\n",
        "        - label_ctc\n",
        "        - label_sar\n",
        "        - length\n",
        "        - valid_ratio\n",
        "  loader:\n",
        "    shuffle: false\n",
        "    drop_last: false\n",
        "    batch_size_per_card: 128\n",
        "    num_workers: 4\n",
        "```\n"
      ]
    },
    {
      "cell_type": "markdown",
      "metadata": {
        "collapsed": false,
        "id": "Nlgem8xae-aW"
      },
      "source": [
        "### 训练\n",
        "\n",
        "因为我们通过配置文件指定了很多参数，所以启动模型训练任务的命令很简单，只需要通过`-c`指定配置文件的路径即可\n",
        "\n",
        "```\n",
        "!python3 tools/train.py -c configs/rec/PP-OCRv3/multi_language/latin_PP-OCRv3_rec.yml\n",
        "```\n",
        "\n",
        "PaddleOCR 提供了单GPU和多GPU两种训练方式。当数据量较大时，我们建议使用多GPU模式，命令如下：\n",
        "\n",
        "```\n",
        "#通过--gpus指定GPU数量\n",
        "python3 -m paddle.distributed.launch --gpus '0,1,2,3' tools/train.py -c configs/rec/PP-OCRv3/en_PP-OCRv3_rec.yml -o Global.pretrained_model=en_PP-OCRv3_rec_train/best_accuracy\n",
        "```\n",
        "\n",
        "这里由于colab上不是每个人都可以使用多GPU模式，所以我们还是使用单CPU来启动基础训练。\n",
        "\n",
        "> 由于我们提供的数据集大小不足以训练出好的泰语模型，我们建议您合成或添加更多数据。"
      ]
    },
    {
      "cell_type": "code",
      "execution_count": null,
      "metadata": {},
      "outputs": [],
      "source": [
        "!python3 tools/train.py -c train_data/bm_img/bm_PP-OCRv3_rec.yml -o Global.use_gpu=False"
      ]
    },
    {
      "cell_type": "markdown",
      "metadata": {
        "id": "tV40CQ8U1zMV"
      },
      "source": [
        "如果你熟悉持续训练、使用新主干进行训练、混合精度训练、使用知识蒸馏进行训练，你可以在[本文档](https://github.com/PaddlePaddle/PaddleOCR/blob/release/2.5/doc/doc_en/recognition_en.md)中了解更多用法"
      ]
    },
    {
      "cell_type": "markdown",
      "metadata": {
        "collapsed": false,
        "id": "WShr_poqe-aX"
      },
      "source": [
        "### 评估\n",
        "\n",
        "训练时的模型参数默认保存在`Global.save_model_dir`目录下，评估指标时需要设置`Global.checkpoints`指向保存的参数文件，评估数据集可以通过修改`configs/rec/PP-OCRv3/{your/config/file}.yml`文件中的`Eval.dataset.label_file_list`字段进行设置。"
      ]
    },
    {
      "cell_type": "code",
      "execution_count": null,
      "metadata": {
        "id": "4o2gFz7Ne-aX"
      },
      "outputs": [],
      "source": [
        "!python3 tools/eval.py -c train_data/bm_img/bm_PP-OCRv3_rec.yml -o Global.checkpoints=./output/thai/best_accuracy"
      ]
    },
    {
      "cell_type": "markdown",
      "metadata": {
        "id": "HrXXeM-n-kag"
      },
      "source": [
        "## 推理\n",
        "\n",
        "\n",
        "\n"
      ]
    },
    {
      "cell_type": "code",
      "execution_count": null,
      "metadata": {
        "id": "2ko9lTlM-wLx"
      },
      "outputs": [],
      "source": [
        "!python3 tools/infer_rec.py -c train_data/bm_img/bm_PP-OCRv3_rec.yml -o Global.checkpoints=./output/thai/best_accuracy  Global.infer_img=./train_data/bm_img/0/ILSVRC2012_val_00019591_5.jpg"
      ]
    }
  ],
  "metadata": {
    "colab": {
      "provenance": [],
      "toc_visible": true
    },
    "kernelspec": {
      "display_name": "Python 3",
      "language": "python",
      "name": "py35-paddle1.2.0"
    },
    "language_info": {
      "codemirror_mode": {
        "name": "ipython",
        "version": 3
      },
      "file_extension": ".py",
      "mimetype": "text/x-python",
      "name": "python",
      "nbconvert_exporter": "python",
      "pygments_lexer": "ipython3",
      "version": "3.7.4"
    }
  },
  "nbformat": 4,
  "nbformat_minor": 0
}
